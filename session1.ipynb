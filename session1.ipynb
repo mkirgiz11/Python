{
 "cells": [
  {
   "cell_type": "markdown",
   "metadata": {},
   "source": [
    "What is Python?\n",
    "- Dynamic Programming Language\n",
    "- Widely used\n",
    "- Easy to use\n",
    "- Human Readable\n",
    "- 10,000 Libraries"
   ]
  },
  {
   "cell_type": "markdown",
   "metadata": {},
   "source": [
    "What about variables?\n",
    "- int, string ...\n",
    "- data storage within your program"
   ]
  },
  {
   "cell_type": "code",
   "execution_count": 2,
   "metadata": {},
   "outputs": [
    {
     "ename": "SyntaxError",
     "evalue": "invalid syntax (<ipython-input-2-e795fb1323a4>, line 1)",
     "output_type": "error",
     "traceback": [
      "\u001b[0;36m  File \u001b[0;32m\"<ipython-input-2-e795fb1323a4>\"\u001b[0;36m, line \u001b[0;32m1\u001b[0m\n\u001b[0;31m    for = 123\u001b[0m\n\u001b[0m        ^\u001b[0m\n\u001b[0;31mSyntaxError\u001b[0m\u001b[0;31m:\u001b[0m invalid syntax\n"
     ]
    }
   ],
   "source": [
    "name = 123\n",
    "print(name)"
   ]
  },
  {
   "cell_type": "markdown",
   "metadata": {},
   "source": [
    "- variable cannot be started with number\n",
    "- for if keywords cannot be used"
   ]
  },
  {
   "cell_type": "markdown",
   "metadata": {},
   "source": [
    "integer - whole number - 123\n",
    "float - decimal point number - 12.3 32.5\n",
    "boolean - (1)true or (0)false \n",
    "string - text\n",
    "lists - \n",
    "sets - \n",
    "dictionaries - \n",
    "Tuples -"
   ]
  },
  {
   "cell_type": "markdown",
   "metadata": {},
   "source": [
    "Integer Data types\n",
    "\n",
    "addition (+)\n",
    "subtraction (-)\n",
    "multiplication(*)\n",
    "division (/)    -----  ALWAYS RETURNS FLOAT\n",
    "integer division(//) --  ALWAYS RETURNS INTEGER\n",
    "modulus (%) --- \n",
    "power (**)"
   ]
  },
  {
   "cell_type": "code",
   "execution_count": 3,
   "metadata": {},
   "outputs": [
    {
     "name": "stdout",
     "output_type": "stream",
     "text": [
      "3\n",
      "3.75\n"
     ]
    }
   ],
   "source": [
    "print(15 // 4)\n",
    "print(15 / 4)"
   ]
  },
  {
   "cell_type": "code",
   "execution_count": null,
   "metadata": {},
   "outputs": [],
   "source": [
    "print(4 % 2)"
   ]
  },
  {
   "cell_type": "code",
   "execution_count": 5,
   "metadata": {},
   "outputs": [
    {
     "name": "stdout",
     "output_type": "stream",
     "text": [
      "19\n",
      "11\n",
      "60\n",
      "3.75\n",
      "3\n",
      "50625\n"
     ]
    }
   ],
   "source": [
    "var1=15\n",
    "var2=4\n",
    "\n",
    "print(var1 + var2)\n",
    "#Subtraction\n",
    "print(var1 - var2)\n",
    "#Multiplication\n",
    "print(var1 * var2)\n",
    "#Division\n",
    "print(var1 / var2)\n",
    "#modulus\n",
    "print(var1 % var2)\n",
    "#Power\n",
    "print(var1 ** var2)"
   ]
  },
  {
   "cell_type": "code",
   "execution_count": 11,
   "metadata": {},
   "outputs": [
    {
     "ename": "SyntaxError",
     "evalue": "EOL while scanning string literal (<ipython-input-11-2b597a08a2c0>, line 3)",
     "output_type": "error",
     "traceback": [
      "\u001b[0;36m  File \u001b[0;32m\"<ipython-input-11-2b597a08a2c0>\"\u001b[0;36m, line \u001b[0;32m3\u001b[0m\n\u001b[0;31m    this is third line\"\"\"\"\u001b[0m\n\u001b[0m                          \n^\u001b[0m\n\u001b[0;31mSyntaxError\u001b[0m\u001b[0;31m:\u001b[0m EOL while scanning string literal\n"
     ]
    }
   ],
   "source": [
    "string1= \"\"\"This is one line\n",
    "this is second line\n",
    "this is third line\"\"\"\"\n",
    "print=(string1)"
   ]
  },
  {
   "cell_type": "code",
   "execution_count": 17,
   "metadata": {},
   "outputs": [
    {
     "name": "stdout",
     "output_type": "stream",
     "text": [
      "Hello, Mit\n"
     ]
    }
   ],
   "source": [
    "#var = input(\"Hello, can you provide your name: \")\n",
    "#print(\"Hello,\", var)\n",
    "#print(\"Hello\")"
   ]
  },
  {
   "cell_type": "code",
   "execution_count": 20,
   "metadata": {},
   "outputs": [
    {
     "name": "stdout",
     "output_type": "stream",
     "text": [
      "This is first number 4\n",
      "This is second number 5\n",
      "This is the addition 9\n"
     ]
    }
   ],
   "source": [
    "var1 = int(input(\"Hello provide me with first number: \"))\n",
    "var2 = int(input(\"Hello provide me with second number: \"))\n",
    "\n",
    "print(\"This is first number\", var1)\n",
    "print(\"This is second number\", var2)\n",
    "\n",
    "print(\"This is the addition\", var1 + var2)"
   ]
  },
  {
   "cell_type": "code",
   "execution_count": 21,
   "metadata": {},
   "outputs": [
    {
     "name": "stdout",
     "output_type": "stream",
     "text": [
      "25.0 degrees Celsius would be 77.0 degrees Fahrenheit.\n"
     ]
    }
   ],
   "source": [
    "cels = float(input(\"Please provide a degree for Celsius: \"))\n",
    "\n",
    "fahren = celsius * (9/5) + 32\n",
    "\n",
    "print(f\"{cels} degrees celsius would be {fahren} degrees fahrenheit when converted.\")\n"
   ]
  },
  {
   "cell_type": "code",
   "execution_count": 28,
   "metadata": {},
   "outputs": [
    {
     "name": "stdout",
     "output_type": "stream",
     "text": [
      "Hello, Mit!\n",
      "You are currently 31 years old.\n",
      "Your birth year is: 1992\n"
     ]
    }
   ],
   "source": [
    "name = input(\"Enter your name: \")\n",
    "age = int(input(\"Enter your age: \"))\n",
    "year = 2023\n",
    "\n",
    "birthyear = year - age\n",
    "\n",
    "output = f\"\"\"Hello, {name}!\n",
    "You are currently {age} years old.\n",
    "Your birth year is: {birthyear}\"\"\"\n",
    "\n",
    "print(output)"
   ]
  },
  {
   "cell_type": "code",
   "execution_count": 29,
   "metadata": {},
   "outputs": [
    {
     "name": "stdout",
     "output_type": "stream",
     "text": [
      "Hello world\n",
      "H\n"
     ]
    }
   ],
   "source": [
    "#string = \"Hello world\"\n",
    "print(string)\n",
    "print(string[0])"
   ]
  },
  {
   "cell_type": "code",
   "execution_count": 30,
   "metadata": {},
   "outputs": [
    {
     "name": "stdout",
     "output_type": "stream",
     "text": [
      "Hello world, this is a lots of and lots of indexing happening here\n",
      "r\n"
     ]
    }
   ],
   "source": [
    "#string = \"Hello world, this is a lots of and lots of indexing happening here\"\n",
    "print(string)\n",
    "print(string[-2])"
   ]
  },
  {
   "cell_type": "code",
   "execution_count": 38,
   "metadata": {},
   "outputs": [
    {
     "name": "stdout",
     "output_type": "stream",
     "text": [
      "here\n",
      "world, this is a lots of and lots of indexing happening here \n",
      "Hello world\n"
     ]
    }
   ],
   "source": [
    "#string = \"Hello world, this is a lots of and lots of indexing happening here \"\n",
    "\n",
    "#print(string[6:11])\n",
    "#print(string[-5:-1]) # To take the last word. it takes it backwards\n",
    "#print(string[6:]) # takes from 6 to the end\n",
    "#print(string[:11]) # takes beginning to 11\n"
   ]
  },
  {
   "cell_type": "code",
   "execution_count": 51,
   "metadata": {},
   "outputs": [
    {
     "name": "stdout",
     "output_type": "stream",
     "text": [
      "mesmerizing\n",
      "beach\n",
      "tranquil\n",
      "sunset painted the sky with hues of orange and pink, casting a warm glow over the tranquil beach.\n"
     ]
    }
   ],
   "source": [
    "text = \"The mesmerizing sunset painted the sky with hues of orange and pink, casting a warm glow over the tranquil beach.\"\n",
    "\n",
    "print(text[4:15])\n",
    "print(text[-6:-1])\n",
    "print(text[-15:-7])\n",
    "print(text[16:])"
   ]
  },
  {
   "cell_type": "code",
   "execution_count": 4,
   "metadata": {},
   "outputs": [
    {
     "name": "stdout",
     "output_type": "stream",
     "text": [
      "Your age is |sep| 32 |sep| Nice to meet you This is the end"
     ]
    }
   ],
   "source": [
    "age = int(input(\"Please provide your age: \"))\n",
    "print(\"Your age is\", age, \"Nice to meet you\", sep=\" |sep| \", end=\" This is the end\")\n"
   ]
  },
  {
   "cell_type": "code",
   "execution_count": 5,
   "metadata": {},
   "outputs": [
    {
     "name": "stdout",
     "output_type": "stream",
     "text": [
      "txet siht esrever esaelp\n"
     ]
    }
   ],
   "source": [
    "text = \"please reverse this text\"\n",
    "print(text[::-1])"
   ]
  },
  {
   "cell_type": "code",
   "execution_count": null,
   "metadata": {},
   "outputs": [],
   "source": [
    "# Example: Using elif for multiple conditions\n",
    "\n",
    "number = 15\n",
    "\n",
    "if number > 20:\n",
    "    print(\"The number is greater than 20.\")\n",
    "elif 10 <= number <= 20:\n",
    "    print(\"The number is between 10 and 20.\")\n",
    "else:\n",
    "    print(\"The number is less than 10.\")\n"
   ]
  },
  {
   "cell_type": "code",
   "execution_count": null,
   "metadata": {},
   "outputs": [],
   "source": [
    "# Always used in Python\n",
    "\n",
    "# <  less than\n",
    "# >  greater than\n",
    "# <= less than or equal\n",
    "# >= greater than or equal\n",
    "# == equals\n",
    "# != not equals\n",
    "\n",
    "\n"
   ]
  }
 ],
 "metadata": {
  "kernelspec": {
   "display_name": "Python 3",
   "language": "python",
   "name": "python3"
  },
  "language_info": {
   "codemirror_mode": {
    "name": "ipython",
    "version": 3
   },
   "file_extension": ".py",
   "mimetype": "text/x-python",
   "name": "python",
   "nbconvert_exporter": "python",
   "pygments_lexer": "ipython3",
   "version": "3.6.8"
  }
 },
 "nbformat": 4,
 "nbformat_minor": 2
}
