{
 "cells": [
  {
   "cell_type": "code",
   "execution_count": 2,
   "metadata": {},
   "outputs": [
    {
     "name": "stdout",
     "output_type": "stream",
     "text": [
      "45.0 degrees celsius would be 113.0 degrees fahrenheit when converted.\n"
     ]
    }
   ],
   "source": [
    "cels = float(input(\"Please provide a degree for Celsius: \"))\n",
    "fahren = cels * (9/5) + 32\n",
    "print(f\"{cels} degrees celsius would be {fahren} degrees fahrenheit when converted.\")"
   ]
  }
 ],
 "metadata": {
  "kernelspec": {
   "display_name": "Python 3",
   "language": "python",
   "name": "python3"
  },
  "language_info": {
   "codemirror_mode": {
    "name": "ipython",
    "version": 3
   },
   "file_extension": ".py",
   "mimetype": "text/x-python",
   "name": "python",
   "nbconvert_exporter": "python",
   "pygments_lexer": "ipython3",
   "version": "3.6.8"
  }
 },
 "nbformat": 4,
 "nbformat_minor": 2
}
