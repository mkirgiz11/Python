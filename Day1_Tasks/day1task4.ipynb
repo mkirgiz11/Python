{
 "cells": [
  {
   "cell_type": "code",
   "execution_count": 2,
   "metadata": {},
   "outputs": [
    {
     "name": "stdout",
     "output_type": "stream",
     "text": [
      "Your ARN: arn:Mit:digitalocean:nyc:1234567:987654\n"
     ]
    }
   ],
   "source": [
    "partition = input(\"Please enter the partition name: \")\n",
    "service = input(\"Please enter the service: \")\n",
    "region = input(\"Please enter the region: \")\n",
    "account_id = int(input(\"Please enter the account ID as an integer: \"))\n",
    "resource_id = int(input(\"Please enter the resource ID as an integer: \"))\n",
    "print(f\"Your ARN: arn:{partition}:{service}:{region}:{account_id}:{resource_id}\")"
   ]
  }
 ],
 "metadata": {
  "kernelspec": {
   "display_name": "Python 3",
   "language": "python",
   "name": "python3"
  },
  "language_info": {
   "codemirror_mode": {
    "name": "ipython",
    "version": 3
   },
   "file_extension": ".py",
   "mimetype": "text/x-python",
   "name": "python",
   "nbconvert_exporter": "python",
   "pygments_lexer": "ipython3",
   "version": "3.6.8"
  }
 },
 "nbformat": 4,
 "nbformat_minor": 2
}
