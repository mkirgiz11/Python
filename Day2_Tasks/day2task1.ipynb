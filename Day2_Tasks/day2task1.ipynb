{
 "cells": [
  {
   "cell_type": "code",
   "execution_count": 3,
   "metadata": {},
   "outputs": [
    {
     "name": "stdout",
     "output_type": "stream",
     "text": [
      "Your password must be at least 8 characters long and include at least 1 uppercase letter, 1 lowercase letter, 1 digit, and 1 special character.\n",
      "Invalid password. Please follow the password instructions and Try again.\n",
      "Your password must be at least 8 characters long and include at least 1 uppercase letter, 1 lowercase letter, 1 digit, and 1 special character.\n",
      "Invalid password. Please follow the password instructions and Try again.\n",
      "Your password must be at least 8 characters long and include at least 1 uppercase letter, 1 lowercase letter, 1 digit, and 1 special character.\n",
      "Password accepted.\n"
     ]
    }
   ],
   "source": [
    "print(\"Your password must be at least 8 characters long and include at least 1 uppercase letter, 1 lowercase letter, 1 digit, and 1 special character.\")\n",
    "while True:\n",
    "    \n",
    "    password = input(\"Enter a password with: \")\n",
    "    if (len(password) < 8 or\n",
    "        not any(char.isupper() for char in password) or\n",
    "        not any(char.islower() for char in password) or\n",
    "        not any(char.isdigit() for char in password) or\n",
    "        not any(char in \"!@#$%^&*()-_=+[]{}|;:'\\\",.<>/?`~\" for char in password)\n",
    "    ):\n",
    "        print(\"Invalid password. Please follow the password instructions and Try again.\")\n",
    "        print(\"Your password must be at least 8 characters long and include at least 1 uppercase letter, 1 lowercase letter, 1 digit, and 1 special character.\")\n",
    "    else:\n",
    "        print(\"Password accepted.\")\n",
    "        break\n"
   ]
  }
 ],
 "metadata": {
  "kernelspec": {
   "display_name": "Python 3",
   "language": "python",
   "name": "python3"
  },
  "language_info": {
   "codemirror_mode": {
    "name": "ipython",
    "version": 3
   },
   "file_extension": ".py",
   "mimetype": "text/x-python",
   "name": "python",
   "nbconvert_exporter": "python",
   "pygments_lexer": "ipython3",
   "version": "3.6.8"
  }
 },
 "nbformat": 4,
 "nbformat_minor": 2
}
