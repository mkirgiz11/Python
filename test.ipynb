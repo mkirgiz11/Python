{
 "cells": [
  {
   "cell_type": "code",
   "execution_count": null,
   "metadata": {},
   "outputs": [],
   "source": [
    "global name \n",
    "\n",
    "def somefunc(name, age):\n",
    "    return f\"Hello {name}, your age is {age}\"\n",
    "\n",
    "def anotherfunc():\n",
    "    pass\n",
    "\n",
    "name = \"Guliza\"\n",
    "\n",
    "#print(somefunc(\"Esen\", 90))"
   ]
  }
 ],
 "metadata": {
  "language_info": {
   "name": "python"
  }
 },
 "nbformat": 4,
 "nbformat_minor": 2
}
