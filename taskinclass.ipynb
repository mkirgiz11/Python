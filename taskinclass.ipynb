{
 "cells": [
  {
   "cell_type": "code",
   "execution_count": 3,
   "metadata": {},
   "outputs": [
    {
     "name": "stdout",
     "output_type": "stream",
     "text": [
      "None\n"
     ]
    }
   ],
   "source": [
    "def validate_email(email):\n",
    "    if email.count(\"@\") != 1:\n",
    "        return False\n",
    "\n",
    "    localpart, domainpart = email.split(\"@\")\n",
    "    if localpart[0] == \".\" or localpart[-1] == \".\":\n",
    "        return False\n",
    "    if (domainpart[0] == \".\" or domainpart[-1] == \".\") or (\"..\" in domainpart):\n",
    "        return False\n",
    "    if \".\" not in domainpart:\n",
    "        return False\n",
    "    valid_chars = set(\"abcdefghijklmnopqrstuvwxyzABCDEFGHIJKLMNOPQRSTUVWXYZ0123456789!#$%&'*+/=?^_`{|}~-\")\n",
    "    if not all(char in valid_chars for char in email):\n",
    "        return False\n",
    "    return True\n",
    "\n",
    "user_email = input(\"Enter an email address: \")\n",
    "email_validity = validate_email(user_email)\n",
    "print(str(email_validity))"
   ]
  }
 ],
 "metadata": {
  "kernelspec": {
   "display_name": "Python 3",
   "language": "python",
   "name": "python3"
  },
  "language_info": {
   "codemirror_mode": {
    "name": "ipython",
    "version": 3
   },
   "file_extension": ".py",
   "mimetype": "text/x-python",
   "name": "python",
   "nbconvert_exporter": "python",
   "pygments_lexer": "ipython3",
   "version": "3.6.8"
  }
 },
 "nbformat": 4,
 "nbformat_minor": 2
}
