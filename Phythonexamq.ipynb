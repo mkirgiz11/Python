{
 "cells": [
  {
   "cell_type": "markdown",
   "metadata": {},
   "source": [
    "Code snippets and exam questions study guide\n",
    "- Some answers provided may be wrong. Please check\n",
    "- Questions are mostly correct\n",
    "- There may be slightly different variables than i remember on few questions\n",
    "- There is only 15 that i have remembered/taken notes on \n",
    "- The exam has 35 questions and 40 minutes if i remember correctly.\n",
    "- There are questions that have you arrange order on codes to make it work\n",
    "- DO NOT SPEND MORE THAN 2 minutes on a question. Flag for review and work on it at the end.\n",
    "- For some codes you have to do division,multiplication/floor division so remember PEMDAS/BODMAS order. \n",
    "- MOST IMPORTANTLY GOOD LUCK! Hope you all pass!\n"
   ]
  },
  {
   "cell_type": "code",
   "execution_count": null,
   "metadata": {},
   "outputs": [],
   "source": [
    "def runner(brand, model=\"\", year=2021, convertible=False):\n",
    "    return (brand, str(year), str(convertible))\n",
    "print(runner(model=\"Furious\", brand=\"Ampere\")[1][1])"
   ]
  },
  {
   "cell_type": "code",
   "execution_count": null,
   "metadata": {},
   "outputs": [],
   "source": [
    "menu = {\"can\": 1, \"vol\": 2, \"go\": 3}\n",
    "for value in menu.keys():\n",
    "    print(str(value)[1], end=\"\")"
   ]
  },
  {
   "cell_type": "code",
   "execution_count": 5,
   "metadata": {},
   "outputs": [
    {
     "name": "stdout",
     "output_type": "stream",
     "text": [
      "4\n"
     ]
    }
   ],
   "source": [
    "collection = []\n",
    "collection.insert(0, 2)\n",
    "collection.append(3)\n",
    "duplicate = collection\n",
    "duplicate.append(2)\n",
    "print(collection[-1] + duplicate[-1])"
   ]
  },
  {
   "cell_type": "code",
   "execution_count": 7,
   "metadata": {},
   "outputs": [
    {
     "ename": "IndexError",
     "evalue": "list index out of range",
     "output_type": "error",
     "traceback": [
      "\u001b[0;31m---------------------------------------------------------------------------\u001b[0m",
      "\u001b[0;31mIndexError\u001b[0m                                Traceback (most recent call last)",
      "\u001b[0;32m<ipython-input-7-01c069b3e117>\u001b[0m in \u001b[0;36m<module>\u001b[0;34m\u001b[0m\n\u001b[1;32m      1\u001b[0m \u001b[0mmy_list\u001b[0m \u001b[0;34m=\u001b[0m \u001b[0;34m[\u001b[0m\u001b[0;36m1\u001b[0m\u001b[0;34m,\u001b[0m \u001b[0;36m2\u001b[0m\u001b[0;34m,\u001b[0m \u001b[0;36m4\u001b[0m\u001b[0;34m,\u001b[0m \u001b[0;36m8\u001b[0m\u001b[0;34m]\u001b[0m\u001b[0;34m\u001b[0m\u001b[0;34m\u001b[0m\u001b[0m\n\u001b[0;32m----> 2\u001b[0;31m \u001b[0mresult\u001b[0m \u001b[0;34m=\u001b[0m \u001b[0mmy_list\u001b[0m\u001b[0;34m[\u001b[0m\u001b[0mmy_list\u001b[0m\u001b[0;34m[\u001b[0m\u001b[0;36m3\u001b[0m\u001b[0;34m]\u001b[0m\u001b[0;34m]\u001b[0m    \u001b[0;31m# GIVES ERROR-OUT OF range\u001b[0m\u001b[0;34m\u001b[0m\u001b[0;34m\u001b[0m\u001b[0m\n\u001b[0m",
      "\u001b[0;31mIndexError\u001b[0m: list index out of range"
     ]
    }
   ],
   "source": [
    "my_list = [1, 2, 4, 8]\n",
    "result = my_list[my_list[3]]    # GIVES ERROR-OUT OF range "
   ]
  },
  {
   "cell_type": "code",
   "execution_count": 9,
   "metadata": {},
   "outputs": [],
   "source": [
    "my_list = [1, 2, 4, 8]\n",
    "result = my_list[-2]  # answer 4"
   ]
  },
  {
   "cell_type": "code",
   "execution_count": null,
   "metadata": {},
   "outputs": [],
   "source": [
    "my_list = [1, 2, 4, 8]\n",
    "result = my_list[-3:-2]. # answer 2"
   ]
  },
  {
   "cell_type": "markdown",
   "metadata": {},
   "source": [
    "tuples can be concatenated using the + operator (t or f).  True\n"
   ]
  },
  {
   "cell_type": "markdown",
   "metadata": {},
   "source": [
    "each element of a tuple must be unique (t or f) False, tuples can have multiple elements."
   ]
  },
  {
   "cell_type": "markdown",
   "metadata": {},
   "source": [
    "if tup is a non-zero length tuple, del tup[0] will delete its first element (true or false)  FALSE IMMUTABLE"
   ]
  },
  {
   "cell_type": "code",
   "execution_count": 3,
   "metadata": {},
   "outputs": [
    {
     "name": "stdout",
     "output_type": "stream",
     "text": [
      "*****"
     ]
    }
   ],
   "source": [
    "speed = 1\n",
    "while speed < 8:\n",
    "    speed += 1\n",
    "    if speed == 7:\n",
    "        break\n",
    "    print(\"*\", end=\"\")\n",
    "else:\n",
    "    print(\"*\")"
   ]
  },
  {
   "cell_type": "code",
   "execution_count": 1,
   "metadata": {},
   "outputs": [
    {
     "name": "stdout",
     "output_type": "stream",
     "text": [
      "1\n"
     ]
    }
   ],
   "source": [
    "equals = 0\n",
    "for I in range(2):\n",
    "    for j in range(2):\n",
    "        if I == j:\n",
    "            equals += 1\n",
    "        else:\n",
    "            break\n",
    "print(equals)"
   ]
  },
  {
   "cell_type": "code",
   "execution_count": 2,
   "metadata": {},
   "outputs": [
    {
     "name": "stdout",
     "output_type": "stream",
     "text": [
      "1\n"
     ]
    }
   ],
   "source": [
    "total = 0\n",
    "for I in range(5):\n",
    "    if I % 2 == 1:\n",
    "        total += 1\n",
    "else:\n",
    "    total -= 1\n",
    "print(total)"
   ]
  },
  {
   "cell_type": "markdown",
   "metadata": {},
   "source": [
    "4 / 1 * 2 - 1\n",
    "2 // 4 * 1 / 3\n",
    "-1 / 3 * 3 + 1"
   ]
  },
  {
   "cell_type": "code",
   "execution_count": 4,
   "metadata": {},
   "outputs": [
    {
     "name": "stdout",
     "output_type": "stream",
     "text": [
      "2\n"
     ]
    }
   ],
   "source": [
    "rates = (1.2, 1.4, 1.0)\n",
    "new = rates[3:]\n",
    "for rate in rates[-2:]:\n",
    "    new += (rate,)\n",
    "print(len(new))"
   ]
  },
  {
   "cell_type": "markdown",
   "metadata": {},
   "source": [
    "python passing argument styles - what are they? There is 2 listed you have to pick them"
   ]
  }
 ],
 "metadata": {
  "kernelspec": {
   "display_name": "Python 3",
   "language": "python",
   "name": "python3"
  },
  "language_info": {
   "codemirror_mode": {
    "name": "ipython",
    "version": 3
   },
   "file_extension": ".py",
   "mimetype": "text/x-python",
   "name": "python",
   "nbconvert_exporter": "python",
   "pygments_lexer": "ipython3",
   "version": "3.6.8"
  }
 },
 "nbformat": 4,
 "nbformat_minor": 2
}
