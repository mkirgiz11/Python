{
 "cells": [
  {
   "cell_type": "markdown",
   "metadata": {},
   "source": [
    "Data Collection Data Types\n",
    "    - Lists/ Arrays\n",
    "    -Tuples\n",
    "\n",
    "List/Arrays\n",
    "-defines with []\n",
    "- Any data type can be inside of a list\n",
    "- List Comprehension\n",
    "- Separated by comma\n",
    "- Mutable - Change the values inside of a list\n",
    "- Append(), insert(), del, pop(index --> optional), sort(reversed=0 or 1), sorted(reversed=0 or 1)\n",
    "\n",
    "Tuples\n",
    "- (<value>,)<--comma important or <value>\n",
    "- Any data type\n",
    "- Separated by comma\n",
    "- Immutable\n",
    "-dont have append, sorted returns a list \n",
    "\n",
    "Dictionary\n",
    "Sets  ---> Not popular\n",
    "\n",
    "\n",
    "Dictionary\n",
    "API- json --->Heavily relies on dictionary\n",
    "-Key-Value pair collection data type \n",
    "-can handle both key and value\n",
    "-{key: value}\n",
    "- Mutable\n",
    "- Dictionary there is no indexing\n"
   ]
  },
  {
   "cell_type": "code",
   "execution_count": 5,
   "metadata": {},
   "outputs": [
    {
     "name": "stdout",
     "output_type": "stream",
     "text": [
      "<class 'int'>\n",
      "10\n"
     ]
    }
   ],
   "source": [
    "# d = {\"a\" : \"hello\"}\n",
    "# print(d[\"a\"])\n",
    "\n",
    "# or \n",
    "\n",
    "# d = {10 : \"hello\"}\n",
    "# print(d[10])\n",
    "\n",
    "#KEYS MUST BE UNIQUE\n",
    "#Values can be similar\n",
    "\n",
    "d = {\"h\" : \"hello\", \"s\" : True, \"int\" : 10}\n",
    "print(type(d[\"int\"]))\n",
    "print(d[\"int\"])\n",
    "\n"
   ]
  },
  {
   "cell_type": "code",
   "execution_count": null,
   "metadata": {},
   "outputs": [],
   "source": [
    "#lst = [1,2,3,4,5,6]\n",
    "\n",
    "#for elem in lst:\n",
    "\n",
    "#lst = [num for num in range(10)]\n"
   ]
  },
  {
   "cell_type": "code",
   "execution_count": 10,
   "metadata": {},
   "outputs": [
    {
     "name": "stdout",
     "output_type": "stream",
     "text": [
      "{'h': 'hello', 's': False, 'int': 10}\n"
     ]
    }
   ],
   "source": [
    "d = {\"h\" : \"hello\", \"s\" : True, \"int\" : 10}\n",
    "\n",
    "# for i in d:\n",
    "#     print(i)\n",
    "# only iterates through keys\n",
    "\n",
    "# for i in d.values(): #values\n",
    "#     print(i)\n",
    "\n",
    "# for i in d.items(): # key-value pair in tuples\n",
    "#     print(i)\n",
    "\n",
    "d[\"s\"] = False # changes value\n",
    "\n",
    "print(d)\n"
   ]
  },
  {
   "cell_type": "code",
   "execution_count": 17,
   "metadata": {},
   "outputs": [
    {
     "name": "stdout",
     "output_type": "stream",
     "text": [
      "{'h': 'hello', 's': True, 'int': 10, 'lst': [1, 2, 3, 4]}\n",
      "{'s': True, 'int': 10, 'lst': [1, 2, 3, 4]}\n",
      "{'int': 10, 'lst': [1, 2, 3, 4]}\n"
     ]
    }
   ],
   "source": [
    "d = {\"h\" : \"hello\", \"s\" : True, \"int\" : 10}\n",
    "\n",
    "d.update({\"lst\" : [1,2,3,4]}) # adds to the list\n",
    "\n",
    "print(d)\n",
    "\n",
    "d.pop(\"h\") #---deletes when provided the key\n",
    "\n",
    "print(d)\n",
    "\n",
    "del d[\"s\"] \n",
    "\n",
    "print(d)"
   ]
  },
  {
   "cell_type": "code",
   "execution_count": 22,
   "metadata": {},
   "outputs": [
    {
     "name": "stdout",
     "output_type": "stream",
     "text": [
      "1\n"
     ]
    }
   ],
   "source": [
    "# d = {1: 1, 2: 4, 3: 9, 4: 16, 5: 25}\n",
    "# inp = int(input(\"Please provide an integer: \"))\n",
    "# if inp in d:\n",
    "#     print(d[inp])\n",
    "\n"
   ]
  },
  {
   "cell_type": "code",
   "execution_count": 24,
   "metadata": {},
   "outputs": [
    {
     "name": "stdout",
     "output_type": "stream",
     "text": [
      "{1: 1, 2: 4, 3: 9, 4: 16, 5: 25, 6: 36}\n"
     ]
    }
   ],
   "source": [
    "number = int(input(\"Please provide an integer: \"))\n",
    "\n",
    "output = {i: i**2 for i in range(1, number + 1)}\n",
    "\n",
    "print(output)\n"
   ]
  },
  {
   "cell_type": "code",
   "execution_count": null,
   "metadata": {},
   "outputs": [],
   "source": [
    "# d = {\"name1\": \"John\", \"name2\": \"Alice\", \"name3\": \"Bob\", \"name4\": \"John\", \"name5\": \"Alice\", \"name6\": \"Max\"}\n",
    "\n",
    "# occur\n",
    "\n",
    "# for i in \n",
    "## HOMEWORK"
   ]
  },
  {
   "cell_type": "markdown",
   "metadata": {},
   "source": [
    "Sets - Data Collection data type that will only accept unique values\n",
    "\n",
    "- Immutable\n",
    "- Doesnt have indexing\n",
    "- {} --- Only Values NO KEYS"
   ]
  },
  {
   "cell_type": "code",
   "execution_count": 25,
   "metadata": {},
   "outputs": [
    {
     "name": "stdout",
     "output_type": "stream",
     "text": [
      "<class 'set'>\n",
      "{False, 1, 'Bob', 19.3, 'Alice', 'Max'}\n"
     ]
    }
   ],
   "source": [
    "st = {\"Alice\", \"Bob\", \"Bob\", \"Max\", 1, 1, True, True, False, 19.3}\n",
    "\n",
    "print(type(st))\n",
    "print(st)"
   ]
  },
  {
   "cell_type": "code",
   "execution_count": null,
   "metadata": {},
   "outputs": [],
   "source": [
    "lst = [\"Alice\", \"Bob\", \"Bob\", \"Max\", 1, 1, True, True, False, 19.3]\n",
    "\n",
    "st = set(lst)\n"
   ]
  },
  {
   "cell_type": "markdown",
   "metadata": {},
   "source": [
    "Functions\n",
    "\n",
    "- Functions are used for the DRY concept - Don't Repeat Yourself\n",
    "- "
   ]
  },
  {
   "cell_type": "code",
   "execution_count": 28,
   "metadata": {},
   "outputs": [
    {
     "name": "stdout",
     "output_type": "stream",
     "text": [
      "calling a function\n",
      "1\n",
      "2\n",
      "3\n",
      "4\n",
      "5\n",
      "6\n",
      "7\n",
      "8\n",
      "9\n",
      "10\n"
     ]
    }
   ],
   "source": [
    "def forloop():\n",
    "    for i in range(1, 11):\n",
    "        print(i)\n",
    "\n",
    "print(\"calling a function\")\n",
    "forloop()\n"
   ]
  },
  {
   "cell_type": "code",
   "execution_count": 31,
   "metadata": {},
   "outputs": [
    {
     "name": "stdout",
     "output_type": "stream",
     "text": [
      "Calling a function: Even\n",
      "0\n",
      "2\n",
      "4\n",
      "Calling a function: Odd\n",
      "1\n"
     ]
    }
   ],
   "source": [
    "# input(\"Please give an input: \")\n",
    "\n",
    "def evennumber(until):\n",
    "    for i in range(until):\n",
    "        if i % 2 == 0:  # Added colon here\n",
    "            print(i)\n",
    "\n",
    "def oddnumber(until):\n",
    "    for i in range(until):\n",
    "        if i % 2 != 0:  # Added colon here\n",
    "            print(i)\n",
    "\n",
    "num = int(input(\"Please provide a range for even numbers: \"))\n",
    "num1 = int(input(\"Please provide a range for odd numbers: \"))  # Corrected variable name\n",
    "\n",
    "print(\"Calling a function: Even\")\n",
    "evennumber(num)\n",
    "print(\"Calling a function: Odd\")\n",
    "oddnumber(num1)  # Corrected variable name\n",
    "\n"
   ]
  },
  {
   "cell_type": "code",
   "execution_count": null,
   "metadata": {},
   "outputs": [],
   "source": [
    "def forloop(until):\n",
    "    for i in range(until):\n",
    "        print(i)\n",
    "\n",
    "num = int(input(\"Please provide an int input\"))\n",
    "\n",
    "forloop(3)"
   ]
  },
  {
   "cell_type": "code",
   "execution_count": 32,
   "metadata": {},
   "outputs": [
    {
     "name": "stdout",
     "output_type": "stream",
     "text": [
      "20\n",
      "<class 'NoneType'>\n"
     ]
    }
   ],
   "source": [
    "def add(a , b):\n",
    "    print(a+b)\n",
    "\n",
    "a = 10\n",
    "b = 10\n",
    "\n",
    "print(type(add(a, b)))"
   ]
  }
 ],
 "metadata": {
  "kernelspec": {
   "display_name": "Python 3",
   "language": "python",
   "name": "python3"
  },
  "language_info": {
   "codemirror_mode": {
    "name": "ipython",
    "version": 3
   },
   "file_extension": ".py",
   "mimetype": "text/x-python",
   "name": "python",
   "nbconvert_exporter": "python",
   "pygments_lexer": "ipython3",
   "version": "3.6.8"
  }
 },
 "nbformat": 4,
 "nbformat_minor": 2
}
