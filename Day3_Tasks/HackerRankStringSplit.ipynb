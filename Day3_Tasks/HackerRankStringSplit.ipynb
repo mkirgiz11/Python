{
 "cells": [
  {
   "cell_type": "code",
   "execution_count": null,
   "metadata": {},
   "outputs": [],
   "source": [
    "# a = \"this is a string\"\n",
    "# a = a.split(\" \") # a is converted to a list of strings. \n",
    "# print a\n",
    "# ['this', 'is', 'a', 'string']\n",
    "\n",
    "# a = \"-\".join(a)\n",
    "# print a\n",
    "# this-is-a-string \n",
    "\n",
    "# def -return =function \n",
    "# Line= variable/Input\n",
    "#first split line.split()\n",
    "#then join  \"-\".join(line.split())\n",
    "\n",
    "def split_and_join(line):\n",
    "    return \"-\".join(line.split())\n",
    "\n",
    "if __name__ == '__main__':\n",
    "    line = input()\n",
    "    result = split_and_join(line)\n",
    "    print(result)"
   ]
  }
 ],
 "metadata": {
  "language_info": {
   "name": "python"
  }
 },
 "nbformat": 4,
 "nbformat_minor": 2
}
