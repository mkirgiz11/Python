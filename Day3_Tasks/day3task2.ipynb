{
 "cells": [
  {
   "cell_type": "code",
   "execution_count": 17,
   "metadata": {},
   "outputs": [
    {
     "name": "stdout",
     "output_type": "stream",
     "text": [
      "Sum of even numbers: 650\n",
      "Product of odd numbers: 58435841445947272053455474390625\n",
      "Largest number: 50\n"
     ]
    }
   ],
   "source": [
    "# lst = [\n",
    "#     i for i in range(1, 51)\n",
    "# ]\n",
    "# sumofeven = 0\n",
    "\n",
    "# for number in lst:\n",
    "#     if number % 2 == 0 :\n",
    "#         sumofeven += number\n",
    "    \n",
    "# print(sumofeven)\n",
    "# ughhh not a list comprehension. MAKE SURE TO READ DIRECTIONS.\n",
    "\n",
    "numbers_list = [i for i in range(1, 51)]\n",
    "sum_even_numbers = sum(even for even in numbers_list if even % 2 == 0)\n",
    "\n",
    "odd_product = 1\n",
    "\n",
    "for i in numbers_list:\n",
    "    if(i % 2 != 0):\n",
    "        odd_product *= i\n",
    "\n",
    "largest_number = max(numbers_list)\n",
    "\n",
    "print(f\"Sum of even numbers: {sum_even_numbers}\")\n",
    "print(f\"Product of odd numbers: {odd_product}\")\n",
    "print(f\"Largest number: {largest_number}\")\n",
    "\n"
   ]
  }
 ],
 "metadata": {
  "kernelspec": {
   "display_name": "Python 3",
   "language": "python",
   "name": "python3"
  },
  "language_info": {
   "codemirror_mode": {
    "name": "ipython",
    "version": 3
   },
   "file_extension": ".py",
   "mimetype": "text/x-python",
   "name": "python",
   "nbconvert_exporter": "python",
   "pygments_lexer": "ipython3",
   "version": "3.6.8"
  }
 },
 "nbformat": 4,
 "nbformat_minor": 2
}
