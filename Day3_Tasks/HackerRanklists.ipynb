{
 "cells": [
  {
   "cell_type": "code",
   "execution_count": null,
   "metadata": {},
   "outputs": [],
   "source": [
    "if __name__ == '__main__':\n",
    "    N = int(input())  #<---- this is to take the input from the user\n",
    "    my_list = [] # <----- The list variable\n",
    "\n",
    "    for _ in range(N):     #<---- For loop to iterate based on what you input\n",
    "        user_input = input().split()  #<-------  white space as Delimiter?? as variable user_input\n",
    "\n",
    "        if user_input[0] == \"insert\":   #<----- if the variable is insert, it takes values for i and e and inserts E  where i is in the list\n",
    "            i, e = map(int, user_input[1:])  ##<---map??\n",
    "            my_list.insert(i, e)\n",
    "        elif user_input[0] == \"print\":  #<------prints the list if command is print.\n",
    "            print(my_list)\n",
    "        elif user_input[0] == \"remove\": #<-------- removes the FIRST variable? from the list\n",
    "            e = int(user_input[1])\n",
    "            my_list.remove(e)\n",
    "        elif user_input[0] == \"append\":  #<------ appends the variable to take at end of list.\n",
    "            e = int(user_input[1])\n",
    "            my_list.append(e)\n",
    "        elif user_input[0] == \"sort\":  #<----- Sorts list\n",
    "            my_list.sort()\n",
    "        elif user_input[0] == \"pop\":  #<---- Removes the last from the list\n",
    "            my_list.pop()\n",
    "        elif user_input[0] == \"reverse\":  #<----- reverses the input of the list\n",
    "            my_list.reverse()\n",
    "\n",
    "\n",
    "# Have Questions on this, was really confused with this.\n"
   ]
  }
 ],
 "metadata": {
  "language_info": {
   "name": "python"
  }
 },
 "nbformat": 4,
 "nbformat_minor": 2
}
