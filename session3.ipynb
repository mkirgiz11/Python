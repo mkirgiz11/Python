{
 "cells": [
  {
   "cell_type": "markdown",
   "metadata": {},
   "source": [
    "For else\n",
    "While else\n",
    "Break\n",
    "Continue\n",
    "Pass"
   ]
  },
  {
   "cell_type": "code",
   "execution_count": 1,
   "metadata": {},
   "outputs": [
    {
     "name": "stdout",
     "output_type": "stream",
     "text": [
      "0\n",
      "1\n",
      "2\n",
      "3\n",
      "4\n",
      "5\n",
      "6\n",
      "7\n",
      "8\n",
      "9\n",
      "Loop has been finished\n"
     ]
    }
   ],
   "source": [
    "for i in range(10):\n",
    "    print(i)\n",
    "else:\n",
    "    print(\"Loop has been finished\")"
   ]
  },
  {
   "cell_type": "code",
   "execution_count": 2,
   "metadata": {},
   "outputs": [
    {
     "name": "stdout",
     "output_type": "stream",
     "text": [
      "0\n",
      "1\n",
      "2\n",
      "3\n",
      "4\n",
      "5\n"
     ]
    }
   ],
   "source": [
    "for i in range(10):\n",
    "    print(i)\n",
    "    if i ==5:\n",
    "        break"
   ]
  },
  {
   "cell_type": "code",
   "execution_count": 4,
   "metadata": {},
   "outputs": [
    {
     "name": "stdout",
     "output_type": "stream",
     "text": [
      "Before Continue\n",
      "Before Continue\n",
      "Before Continue\n"
     ]
    }
   ],
   "source": [
    "n = 0\n",
    "while n < 10:\n",
    "    n += 1\n",
    "    if n % 3 == 0:\n",
    "        print(\"Before Continue\")\n",
    "        continue\n",
    "        print(\"After\")\n"
   ]
  },
  {
   "cell_type": "code",
   "execution_count": 7,
   "metadata": {},
   "outputs": [
    {
     "name": "stdout",
     "output_type": "stream",
     "text": [
      "1\n",
      "2\n",
      "4\n",
      "5\n",
      "7\n",
      "8\n"
     ]
    }
   ],
   "source": [
    "for i in range(10):\n",
    "    if i % 3 == 0:\n",
    "        continue\n",
    "    print(i)"
   ]
  },
  {
   "cell_type": "code",
   "execution_count": 8,
   "metadata": {},
   "outputs": [
    {
     "name": "stdout",
     "output_type": "stream",
     "text": [
      "hello\n"
     ]
    }
   ],
   "source": [
    "def somefunc():\n",
    "    pass\n",
    " \n",
    "\n",
    "print(\"hello\")"
   ]
  },
  {
   "cell_type": "markdown",
   "metadata": {},
   "source": [
    "Data Collection Data Types\n",
    "-Data Types that can handle more than 1 value\n",
    "    - Lists // Array\n",
    "    - Sets\n",
    "    - Tuples\n",
    "    - Dictionaries"
   ]
  },
  {
   "cell_type": "markdown",
   "metadata": {},
   "source": [
    "Lists"
   ]
  },
  {
   "cell_type": "code",
   "execution_count": 9,
   "metadata": {},
   "outputs": [
    {
     "name": "stdout",
     "output_type": "stream",
     "text": [
      "['Maira', 'Vasyl', 'Nara', 'Asel', 'Mit']\n"
     ]
    }
   ],
   "source": [
    "Student_names = [\"Maira\", \"Vasyl\", \"Nara\", \"Asel\", \"Mit\"]\n",
    "print(Student_names)"
   ]
  },
  {
   "cell_type": "code",
   "execution_count": 11,
   "metadata": {},
   "outputs": [
    {
     "name": "stdout",
     "output_type": "stream",
     "text": [
      "['Nara', 'Asel', 'Mit']\n"
     ]
    }
   ],
   "source": [
    "Student_names = [\"Maira\", \"Vasyl\", \"Nara\", \"Asel\", \"Mit\"]\n",
    "print(Student_names[2:])\n"
   ]
  },
  {
   "cell_type": "code",
   "execution_count": 13,
   "metadata": {},
   "outputs": [
    {
     "name": "stdout",
     "output_type": "stream",
     "text": [
      "['Maira', 'Vasyl', 'Nara', 'Asel', 'Mit']\n",
      "['Maira', 'Vasyl', 'Nara', 'Asel', 'Mit', 'Guliza']\n",
      "['Maira', 'Vasyl', 'Gul', 'Nara', 'Asel', 'Mit', 'Guliza']\n"
     ]
    }
   ],
   "source": [
    "Student_names = [\"Maira\", \"Vasyl\", \"Nara\", \"Asel\", \"Mit\"]\n",
    "print(Student_names)\n",
    "Student_names.append(\"Guliza\") # Append will always add to the back of the list\n",
    "print(Student_names)\n",
    "Student_names.insert(2, \"Gul\")\n",
    "print(Student_names)"
   ]
  },
  {
   "cell_type": "code",
   "execution_count": 18,
   "metadata": {},
   "outputs": [
    {
     "name": "stdout",
     "output_type": "stream",
     "text": [
      "M\n",
      "M\n",
      "N\n",
      "A\n",
      "G\n"
     ]
    }
   ],
   "source": [
    "student_names = [\"Maira\", \"Mithat\", \"Nara\", \"Asel\", \"Guliza\"]\n",
    "for name in student_names:\n",
    "    print(name[0])\n"
   ]
  },
  {
   "cell_type": "code",
   "execution_count": 23,
   "metadata": {},
   "outputs": [
    {
     "name": "stdout",
     "output_type": "stream",
     "text": [
      "368\n"
     ]
    }
   ],
   "source": [
    "lst = [10, 20, 30, 40, 33, 22, 45, 78, 90]\n",
    "\n",
    "sum = 0  \n",
    "\n",
    "for number in lst:\n",
    "    sum += number\n",
    "\n",
    "print(sum)\n"
   ]
  },
  {
   "cell_type": "code",
   "execution_count": 25,
   "metadata": {},
   "outputs": [
    {
     "name": "stdout",
     "output_type": "stream",
     "text": [
      "250 120\n"
     ]
    }
   ],
   "source": [
    "lst = [10, 21, 32, 40, 33, 21,45, 78, 90]\n",
    "\n",
    "sumofeven = 0\n",
    "sumofodd = 0\n",
    "\n",
    "for number in lst:\n",
    "    if number % 2 == 0 :\n",
    "        sumofeven += number\n",
    "    else:\n",
    "        sumofodd += number\n",
    "print(sumofeven, sumofodd)"
   ]
  },
  {
   "cell_type": "code",
   "execution_count": 29,
   "metadata": {},
   "outputs": [
    {
     "name": "stdout",
     "output_type": "stream",
     "text": [
      "[-1, 1, 5, 6, 10, 21, 21, 32, 33, 40, 45, 78, 90]\n",
      "[10, 21, 32, 5, 6, 40, 33, 21, 1, 45, 78, -1, 90]\n"
     ]
    }
   ],
   "source": [
    "lst = [10, 21, 32, 5, 6, 40, 33, 21, 1, 45, 78,-1, 90]\n",
    "\n",
    "# lst.sort() #----- Changes the original list\n",
    "#lst.sort(reverse=True)\n",
    "print(sorted(lst)) # --- Doesnt change the original list\n",
    "print(lst)"
   ]
  },
  {
   "cell_type": "code",
   "execution_count": 43,
   "metadata": {},
   "outputs": [
    {
     "name": "stdout",
     "output_type": "stream",
     "text": [
      "hello\n"
     ]
    }
   ],
   "source": [
    "list =[\"string\",12, [1,[\"hello\", \"world\"],3]]\n",
    "print(list[-1][1][0])\n"
   ]
  },
  {
   "cell_type": "code",
   "execution_count": 45,
   "metadata": {},
   "outputs": [
    {
     "name": "stdout",
     "output_type": "stream",
     "text": [
      "[1, 2, 3, 5]\n",
      "[1, 2, 3, 4, 5]\n",
      "[1, 2, 3, 4, 5]\n"
     ]
    }
   ],
   "source": [
    "lst = [1,2,3,4,5]\n",
    "lst2 = lst # ------ same list\n",
    "lst3 = lst[::] # ----CREATE SECOND(another) LIST WITH SAME INPUT\n",
    "lst4 = lst.copy() # ---Create another list with same input as lst\n",
    "del lst[3]\n",
    "\n",
    "print(lst2)\n",
    "print(lst3)\n",
    "print(lst4)"
   ]
  },
  {
   "cell_type": "code",
   "execution_count": 46,
   "metadata": {},
   "outputs": [
    {
     "data": {
      "text/plain": [
       "4"
      ]
     },
     "execution_count": 46,
     "metadata": {},
     "output_type": "execute_result"
    }
   ],
   "source": [
    "lst = [1,2,3,4,5]\n",
    "\n",
    "# lst.index(5)\n",
    "lst.pop() #---- opposite of end (removes from end)\n",
    "lst.pop(2) #-- you can redirect to take out the number you want\n",
    "lst.append([1,2,3,4]) #---\n",
    "lst.insert()\n",
    "lst += (1,2,3,4) # -- adds to the same list\n"
   ]
  },
  {
   "cell_type": "code",
   "execution_count": null,
   "metadata": {},
   "outputs": [],
   "source": [
    "# Strings, Tuples, Integer,Booleyan, Floats(cant change)\n",
    "# Lists, Dictionary - Mutable\n",
    "# Immutability -- \n",
    "# Tuples"
   ]
  },
  {
   "cell_type": "code",
   "execution_count": 48,
   "metadata": {},
   "outputs": [
    {
     "ename": "TypeError",
     "evalue": "'str' object does not support item assignment",
     "output_type": "error",
     "traceback": [
      "\u001b[0;31m---------------------------------------------------------------------------\u001b[0m",
      "\u001b[0;31mTypeError\u001b[0m                                 Traceback (most recent call last)",
      "\u001b[0;32m<ipython-input-48-f2d84db0117f>\u001b[0m in \u001b[0;36m<module>\u001b[0;34m\u001b[0m\n\u001b[1;32m      1\u001b[0m \u001b[0mstring\u001b[0m \u001b[0;34m=\u001b[0m \u001b[0;34m\"hello\"\u001b[0m\u001b[0;34m\u001b[0m\u001b[0;34m\u001b[0m\u001b[0m\n\u001b[1;32m      2\u001b[0m \u001b[0;34m\u001b[0m\u001b[0m\n\u001b[0;32m----> 3\u001b[0;31m \u001b[0mstring\u001b[0m\u001b[0;34m[\u001b[0m\u001b[0;36m0\u001b[0m\u001b[0;34m]\u001b[0m \u001b[0;34m=\u001b[0m\u001b[0;34m\"H\"\u001b[0m\u001b[0;34m\u001b[0m\u001b[0;34m\u001b[0m\u001b[0m\n\u001b[0m",
      "\u001b[0;31mTypeError\u001b[0m: 'str' object does not support item assignment"
     ]
    }
   ],
   "source": [
    "string = \"hello\"\n",
    "\n",
    "string[0] =\"H\""
   ]
  },
  {
   "cell_type": "code",
   "execution_count": 50,
   "metadata": {},
   "outputs": [
    {
     "name": "stdout",
     "output_type": "stream",
     "text": [
      "<class 'tuple'>\n",
      "<class 'tuple'>\n"
     ]
    }
   ],
   "source": [
    "tupl = (\"hello\", 1, 2, 12)\n",
    "\n",
    "tupl2 = 1,4,5\n",
    "\n",
    "print(type(tupl))\n",
    "print(type(tupl2))"
   ]
  },
  {
   "cell_type": "markdown",
   "metadata": {},
   "source": [
    "List comprehension"
   ]
  },
  {
   "cell_type": "code",
   "execution_count": 56,
   "metadata": {},
   "outputs": [
    {
     "name": "stdout",
     "output_type": "stream",
     "text": [
      "[0, 2, 4, 6, 8, 10, 12, 14, 16, 18, 20, 22, 24, 26, 28, 30, 32, 34, 36, 38, 40, 42, 44, 46, 48, 50, 52, 54, 56, 58, 60, 62, 64, 66, 68, 70, 72, 74, 76, 78, 80, 82, 84, 86, 88, 90, 92, 94, 96, 98]\n",
      "[0, 4, 16, 36, 64]\n",
      "[0, 1, 2, 0, 1, 2, 0, 1, 2]\n"
     ]
    }
   ],
   "source": [
    "lst= []\n",
    "for i in range(100):\n",
    "    if i % 2 == 0:\n",
    "        lst.append(i)\n",
    "\n",
    "print(lst)\n",
    "\n",
    "lst2= [num**2 for num in range(10) if num % 2 == 0]\n",
    "print(lst2)\n",
    "\n",
    "lst3 = [num for i in range(3) for num in range(3)]\n",
    "print(lst3)"
   ]
  },
  {
   "cell_type": "markdown",
   "metadata": {},
   "source": [
    "Tuple Comprehension"
   ]
  },
  {
   "cell_type": "code",
   "execution_count": 55,
   "metadata": {},
   "outputs": [
    {
     "name": "stdout",
     "output_type": "stream",
     "text": [
      "(0, 1, 2, 3, 4, 5, 6, 7, 8, 9)\n"
     ]
    }
   ],
   "source": [
    "tupl = tuple(num for num in range(10))\n",
    "print(tupl)"
   ]
  },
  {
   "cell_type": "code",
   "execution_count": null,
   "metadata": {},
   "outputs": [],
   "source": []
  }
 ],
 "metadata": {
  "kernelspec": {
   "display_name": "Python 3",
   "language": "python",
   "name": "python3"
  },
  "language_info": {
   "codemirror_mode": {
    "name": "ipython",
    "version": 3
   },
   "file_extension": ".py",
   "mimetype": "text/x-python",
   "name": "python",
   "nbconvert_exporter": "python",
   "pygments_lexer": "ipython3",
   "version": "3.6.8"
  }
 },
 "nbformat": 4,
 "nbformat_minor": 2
}
