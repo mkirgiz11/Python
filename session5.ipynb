{
 "cells": [
  {
   "cell_type": "code",
   "execution_count": 2,
   "metadata": {},
   "outputs": [
    {
     "data": {
      "text/plain": [
       "'Hello Asel'"
      ]
     },
     "execution_count": 2,
     "metadata": {},
     "output_type": "execute_result"
    }
   ],
   "source": [
    "def somefunc(data):\n",
    "    return f\"Hello {data}\"\n",
    "\n",
    "somefunc(\"Asel\")"
   ]
  },
  {
   "cell_type": "code",
   "execution_count": 3,
   "metadata": {},
   "outputs": [
    {
     "name": "stdout",
     "output_type": "stream",
     "text": [
      "Hello Esen, your age is 90\n"
     ]
    }
   ],
   "source": [
    "def somefunc(name, age):\n",
    "    return f\"Hello {name}, your age is {age}\"\n",
    "\n",
    "print(somefunc(\"Esen\", 90))\n",
    "\n"
   ]
  },
  {
   "cell_type": "markdown",
   "metadata": {},
   "source": [
    "-Global Keyword\n",
    "-Exceptions\n",
    "-Recursion"
   ]
  },
  {
   "cell_type": "code",
   "execution_count": null,
   "metadata": {},
   "outputs": [],
   "source": [
    "global name \n",
    "\n",
    "def somefunc(name, age):\n",
    "    return f\"Hello {name}, your age is {age}\"\n",
    "\n",
    "def anotherfunc():\n",
    "    pass\n",
    "\n",
    "name = \"Guliza\""
   ]
  },
  {
   "cell_type": "markdown",
   "metadata": {},
   "source": [
    "-Recursion\n",
    "    Function calls itself inside of function\n",
    "    Dangerous if you dont understand what you are doing"
   ]
  },
  {
   "cell_type": "code",
   "execution_count": 5,
   "metadata": {},
   "outputs": [
    {
     "name": "stdout",
     "output_type": "stream",
     "text": [
      "120\n"
     ]
    }
   ],
   "source": [
    "def fact(num):\n",
    "    if num == 1:\n",
    "        return 1\n",
    "    else:\n",
    "        return num * fact(num - 1)\n",
    "\n",
    "print(fact(5))\n"
   ]
  },
  {
   "cell_type": "markdown",
   "metadata": {},
   "source": [
    "Exceptions\n",
    "-Error Handling"
   ]
  },
  {
   "cell_type": "code",
   "execution_count": null,
   "metadata": {},
   "outputs": [],
   "source": [
    "try:\n",
    "    #code\n",
    "    pass\n",
    "except:\n",
    "    #code\n",
    "    pass\n"
   ]
  },
  {
   "cell_type": "code",
   "execution_count": null,
   "metadata": {},
   "outputs": [],
   "source": [
    "try: name = \"Hello\"\n",
    "name[0] = \"n\"\n",
    "print(name[10])\n",
    "\n",
    "except IndexError:\n",
    "    print(f\"You have a sting with the length of {len(name)}\")\n",
    "finally: \n",
    "    print(\"Finally Keyword\")\n"
   ]
  }
 ],
 "metadata": {
  "kernelspec": {
   "display_name": "Python 3",
   "language": "python",
   "name": "python3"
  },
  "language_info": {
   "codemirror_mode": {
    "name": "ipython",
    "version": 3
   },
   "file_extension": ".py",
   "mimetype": "text/x-python",
   "name": "python",
   "nbconvert_exporter": "python",
   "pygments_lexer": "ipython3",
   "version": "3.6.8"
  }
 },
 "nbformat": 4,
 "nbformat_minor": 2
}
